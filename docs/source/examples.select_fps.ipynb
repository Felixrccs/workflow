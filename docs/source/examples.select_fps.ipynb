{
 "cells": [
  {
   "cell_type": "markdown",
   "id": "178bd73f-5197-4eb5-8a1e-f1bf16fad4cc",
   "metadata": {},
   "source": [
    "# Selection or Sampling of Structures\n",
    "\n",
    "Training of machine learning potentials often requires picking-out a few structures from a large configurations-database (for example, an MD trajectory). This can be achieved in a few different ways in the Workflow package depending on one's choice of the selection criteria (see `wfl.select`).\n",
    "\n",
    "Selection of a set of individually unique structures can be done by comparing descriptors for each configuration in the database (see `wfl.select.by_descriptor`). Here, you can find functions to process descriptors as well as functions which perform two different selection algorithms, namely leverage-score CUR and greedy farthest-point-first (FPS). Additional features including exclusion of a list of structures or consideration of previously selected structures can be passed as arguments in the selection criteria.\n",
    "\n",
    "In this example, we show how FPS can be used for selection of \"n=8\" datapoints from an MD trajectory by comparing \"average SOAP descriptors\" of all path configurations. This is done in two steps: \n",
    "1. Assigning  a global descriptor for each configuration in the trajectory followed by \n",
    "2. A call of the *greedy_fps_conf_global* function \n",
    "\n",
    "To assign a per-config descriptor we calculate the average SOAP vector for every frame in the MD trajectory. The greedy-FPS algorithm would use them to measure similarities across the datapoints and select 10 unique structures. \n",
    "\n",
    "Overall this requires two input files: the database and the descriptors (\"md.traj\" and \"params.yaml\")\n",
    "\n",
    "Tip: params.yaml can either be self-written or automatically generated from a \"Univeral_SOAP-template\" processed by multi-stage gap fit (see wfl.fit.gap.multistage)"
   ]
  },
  {
   "cell_type": "code",
   "execution_count": null,
   "id": "6a209cdf-1153-4e7d-bedb-dcd8cea04116",
   "metadata": {},
   "outputs": [],
   "source": [
    "import wfl, os, sys, yaml\n",
    "from wfl.configset import ConfigSet, OutputSpec\n",
    "from wfl.descriptors.quippy import calc as calc_descriptors\n",
    "from wfl.select.by_descriptor import greedy_fps_conf_global as get_fps\n",
    "\n",
    "work_dir = \"examples_files/select_fps\" # Location of I/O files\n",
    "\n",
    "# Step 1: Assign descriptors to the database\n",
    "md        = ConfigSet(os.path.join(work_dir, \"md.traj\"))\n",
    "md_desc   = OutputSpec(files=os.path.join(work_dir, \"md_desc.xyz\"))\n",
    "\n",
    "with open(os.path.join(work_dir, 'params.yaml'), 'r') as foo:\n",
    "    desc_dict = yaml.safe_load(foo)\n",
    "desc_dicts = [d for d in desc_dict if 'soap' in d.keys()] # filtering out only SOAP descriptor\n",
    "per_atom = True\n",
    "for param in desc_dicts:\n",
    "    if 'average' not in param.keys():\n",
    "        param['average']= True # to create global (per-conf) descriptors instead of local (per-atom)\n",
    "        per_atom = False\n",
    "md_desc = calc_descriptors(inputs=md, outputs=md_desc, descs=desc_dicts, key='desc', per_atom=per_atom)\n",
    "\n",
    "# Step 2: Sampling\n",
    "fps      = OutputSpec(files=os.path.join(work_dir, \"out_fps.xyz\"))\n",
    "nsamples = 8\n",
    "get_fps(inputs=md_desc, outputs=fps, num=nsamples, at_descs_info_key='desc', keep_descriptor_info=False)"
   ]
  },
  {
   "cell_type": "code",
   "execution_count": null,
   "id": "b7e11490-f9c3-4b5b-b0b5-eb7e75ba6fa7",
   "metadata": {
    "nbsphinx": "hidden"
   },
   "outputs": [],
   "source": [
    "from ase.io import read\n",
    "\n",
    "assert os.path.exists(os.path.join(work_dir, 'md_desc.xyz'))\n",
    "assert os.path.exists(os.path.join(work_dir, 'out_fps.xyz'))\n",
    "\n",
    "fps = read(os.path.join(work_dir, \"out_fps.xyz\"), \":\")\n",
    "assert len(fps) == nsamples\n",
    "\n",
    "os.remove(os.path.join(work_dir, 'md_desc.xyz'))\n",
    "os.remove(os.path.join(work_dir, 'out_fps.xyz'))"
   ]
  }
 ],
 "metadata": {
  "kernelspec": {
   "display_name": "Python 3",
   "language": "python",
   "name": "python3"
  },
  "language_info": {
   "codemirror_mode": {
    "name": "ipython",
    "version": 3
   },
   "file_extension": ".py",
   "mimetype": "text/x-python",
   "name": "python",
   "nbconvert_exporter": "python",
   "pygments_lexer": "ipython3",
   "version": "3.8.8"
  }
 },
 "nbformat": 4,
 "nbformat_minor": 5
}
